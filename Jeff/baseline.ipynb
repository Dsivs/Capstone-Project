{
 "cells": [
  {
   "cell_type": "code",
   "execution_count": 6,
   "metadata": {},
   "outputs": [],
   "source": [
    "from sklearn.model_selection import train_test_split\n",
    "from sklearn.preprocessing import OneHotEncoder\n",
    "from sklearn.ensemble import RandomForestClassifier\n",
    "from sklearn.metrics import classification_report\n",
    "\n",
    "def train_baseline_model(df):\n",
    "    X = df.drop(columns=[\"label\"])\n",
    "    y = df[\"label\"]\n",
    "\n",
    "    # Select numeric and categorical features\n",
    "    numeric_features = X.select_dtypes(include=[\"number\"]).columns.tolist()\n",
    "    categorical_features = [\"payment_method\", \"payment_terms\", \"currency\", \"state\"]\n",
    "\n",
    "    # Encode categorical features\n",
    "    encoder = OneHotEncoder(handle_unknown=\"ignore\", sparse_output=False)\n",
    "    X_cat = encoder.fit_transform(X[categorical_features])\n",
    "    X_num = X[numeric_features].values\n",
    "    X_all = np.hstack([X_num, X_cat])\n",
    "\n",
    "    # Train-test split\n",
    "    X_train, X_test, y_train, y_test = train_test_split(X_all, y, test_size=0.3, random_state=42)\n",
    "\n",
    "    # Train classifier\n",
    "    model = RandomForestClassifier(n_estimators=100, random_state=42)\n",
    "    model.fit(X_train, y_train)\n",
    "\n",
    "    # Evaluate\n",
    "    y_pred = model.predict(X_test)\n",
    "    print(classification_report(y_test, y_pred))\n",
    "\n",
    "    return model, encoder\n"
   ]
  },
  {
   "cell_type": "code",
   "execution_count": 7,
   "metadata": {},
   "outputs": [],
   "source": [
    "def extract_features(invoices):\n",
    "    rows = []\n",
    "    for invoice in invoices:\n",
    "        features = {}\n",
    "        extractions = {item[\"field\"]: item[\"value\"] for item in invoice[\"extractions\"]}\n",
    "\n",
    "        line_items = extractions.get(\"line_details\", [])\n",
    "        features[\"num_line_items\"] = len(line_items)\n",
    "\n",
    "        qtys, totals = [], []\n",
    "        for line in line_items:\n",
    "            try:\n",
    "                qtys.append(float(line[\"line_qty\"]))\n",
    "                totals.append(float(line[\"line_total\"]))\n",
    "            except (KeyError, ValueError):\n",
    "                continue\n",
    "\n",
    "        features[\"line_qty_sum\"] = sum(qtys)\n",
    "        features[\"line_total_mean\"] = np.mean(totals) if totals else 0.0\n",
    "\n",
    "        try:\n",
    "            features[\"total_tax\"] = float(extractions.get(\"tax\", 0))\n",
    "            features[\"grand_total\"] = float(extractions.get(\"grand_total\", 0))\n",
    "        except ValueError:\n",
    "            features[\"total_tax\"] = 0\n",
    "            features[\"grand_total\"] = 0\n",
    "\n",
    "        features[\"payment_method\"] = extractions.get(\"payment_method\", \"\")\n",
    "        features[\"payment_terms\"] = extractions.get(\"payment_terms\", \"\")\n",
    "        features[\"currency\"] = extractions.get(\"currency\", \"\")\n",
    "        features[\"state\"] = extractions.get(\"merchant_address\", \"\").split()[-3] if \"merchant_address\" in extractions else \"\"\n",
    "\n",
    "        features[\"label\"] = invoice.get(\"label\", 0)\n",
    "\n",
    "        rows.append(features)\n",
    "\n",
    "    return pd.DataFrame(rows)\n"
   ]
  },
  {
   "cell_type": "code",
   "execution_count": 8,
   "metadata": {},
   "outputs": [
    {
     "name": "stdout",
     "output_type": "stream",
     "text": [
      "              precision    recall  f1-score   support\n",
      "\n",
      "           0       0.73      0.95      0.83      2154\n",
      "           1       0.65      0.22      0.33       952\n",
      "\n",
      "    accuracy                           0.72      3106\n",
      "   macro avg       0.69      0.58      0.58      3106\n",
      "weighted avg       0.71      0.72      0.67      3106\n",
      "\n"
     ]
    }
   ],
   "source": [
    "from invoice_generator import *\n",
    "invoices = load_dataset(\"synthetic_invoices_test.json\")\n",
    "df = extract_features(invoices)\n",
    "model, encoder = train_baseline_model(df)\n"
   ]
  }
 ],
 "metadata": {
  "kernelspec": {
   "display_name": "Python 3",
   "language": "python",
   "name": "python3"
  },
  "language_info": {
   "codemirror_mode": {
    "name": "ipython",
    "version": 3
   },
   "file_extension": ".py",
   "mimetype": "text/x-python",
   "name": "python",
   "nbconvert_exporter": "python",
   "pygments_lexer": "ipython3",
   "version": "3.10.14"
  }
 },
 "nbformat": 4,
 "nbformat_minor": 2
}
