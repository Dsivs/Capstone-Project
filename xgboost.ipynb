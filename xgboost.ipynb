{
 "cells": [
  {
   "cell_type": "code",
   "execution_count": 84,
   "id": "6bd63831",
   "metadata": {},
   "outputs": [],
   "source": [
    "from sklearn.model_selection import train_test_split\n",
    "from sklearn.metrics import accuracy_score, classification_report\n",
    "from sklearn.preprocessing import LabelEncoder\n",
    "from xgboost import XGBClassifier\n",
    "import pandas as pd"
   ]
  },
  {
   "cell_type": "markdown",
   "id": "f191f4f3",
   "metadata": {},
   "source": [
    "### XGBoost with merchant information"
   ]
  },
  {
   "cell_type": "code",
   "execution_count": 85,
   "id": "8f6c4305",
   "metadata": {},
   "outputs": [],
   "source": [
    "# Load data\n",
    "df_train = pd.read_parquet('train_df.parquet', engine='pyarrow')\n",
    "df_test = pd.read_parquet('test_df.parquet', engine='pyarrow')\n",
    "\n",
    "# Separate features X and target y (anomaly label 0 or 1)\n",
    "X_train = df_train.drop('is_anomalous', axis=1)\n",
    "y_train = df_train['is_anomalous']\n",
    "X_test = df_test.drop('is_anomalous', axis=1)\n",
    "y_test = df_test['is_anomalous']"
   ]
  },
  {
   "cell_type": "code",
   "execution_count": 86,
   "id": "3ad0f758",
   "metadata": {},
   "outputs": [],
   "source": [
    "# use label encoding for categorical/name columns (merchant info)\n",
    "# label encoding is fine because tree-based models don’t assume ordering in the numbers\n",
    "\n",
    "# Identify categorical columns\n",
    "col_types = dict(X_train.dtypes)\n",
    "label_cols = [col for col, dtype in col_types.items() if dtype == 'object']\n",
    "\n",
    "# Label encode each categorical column (keeping consistency between train and test)\n",
    "encoders = {}\n",
    "for col in label_cols:\n",
    "    encoder = LabelEncoder()\n",
    "    combined = pd.concat([X_train[col], X_test[col]], axis=0).astype(str)\n",
    "    encoder.fit(combined)\n",
    "    X_train[col] = encoder.transform(X_train[col].astype(str))\n",
    "    X_test[col] = encoder.transform(X_test[col].astype(str))\n",
    "    encoders[col] = encoder  # Optional: store encoders for inverse_transform or future use\n",
    "\n",
    "# remove datetime cols, only use important info (time between invoice date and due: invoice_age)\n",
    "X_train = X_train.drop(columns=['invoice_date', 'due_date'])\n",
    "X_test = X_test.drop(columns=['invoice_date', 'due_date'])"
   ]
  },
  {
   "cell_type": "code",
   "execution_count": 87,
   "id": "fc3b2676",
   "metadata": {},
   "outputs": [
    {
     "name": "stdout",
     "output_type": "stream",
     "text": [
      "Accuracy: 0.8821852731591449\n",
      "\n",
      "Classification Report:\n",
      "               precision    recall  f1-score   support\n",
      "\n",
      "           0       0.84      0.97      0.90      1177\n",
      "           1       0.96      0.77      0.85       928\n",
      "\n",
      "    accuracy                           0.88      2105\n",
      "   macro avg       0.90      0.87      0.88      2105\n",
      "weighted avg       0.89      0.88      0.88      2105\n",
      "\n"
     ]
    }
   ],
   "source": [
    "model_with_merchant_info = XGBClassifier(\n",
    "    n_estimators=200,\n",
    "    eval_metric='logloss',\n",
    "    random_state=42\n",
    ")\n",
    "\n",
    "model_with_merchant_info.fit(X_train, y_train)\n",
    "\n",
    "# Predict\n",
    "y_pred = model_with_merchant_info.predict(X_test)\n",
    "\n",
    "# Evaluation\n",
    "print(\"Accuracy:\", accuracy_score(y_test, y_pred))\n",
    "print(\"\\nClassification Report:\\n\", classification_report(y_test, y_pred))"
   ]
  },
  {
   "cell_type": "markdown",
   "id": "42783d5a",
   "metadata": {},
   "source": [
    "### Model without merchant information"
   ]
  },
  {
   "cell_type": "code",
   "execution_count": 88,
   "id": "2d70727e",
   "metadata": {},
   "outputs": [],
   "source": [
    "# Load data\n",
    "df_train = pd.read_parquet('train_df.parquet', engine='pyarrow')\n",
    "df_test = pd.read_parquet('test_df.parquet', engine='pyarrow')\n",
    "\n",
    "# Separate features X and target y (anomaly label 0 or 1)\n",
    "X_train = df_train.drop('is_anomalous', axis=1)\n",
    "y_train = df_train['is_anomalous']\n",
    "X_test = df_test.drop('is_anomalous', axis=1)\n",
    "y_test = df_test['is_anomalous']"
   ]
  },
  {
   "cell_type": "code",
   "execution_count": 89,
   "id": "e4d50851",
   "metadata": {},
   "outputs": [],
   "source": [
    "# use label encoding for categorical/name columns (po_number, payment_method, country, state, and currency)\n",
    "# label encoding is fine because tree-based models don’t assume ordering in the numbers\n",
    "\n",
    "# remove merchant, merchant chain, merchant branch, and merchant address\n",
    "# remove datetime cols, only use important info (time between invoice date and due: invoice_age)\n",
    "X_train = X_train.drop(columns=['merchant', 'merchant_branch', 'merchant_chain', 'merchant_address', 'invoice_date', 'due_date'])\n",
    "X_test = X_test.drop(columns=['merchant', 'merchant_branch', 'merchant_chain', 'merchant_address', 'invoice_date', 'due_date'])\n",
    "\n",
    "# Identify categorical columns\n",
    "col_types = dict(X_train.dtypes)\n",
    "label_cols = [col for col, dtype in col_types.items() if dtype == 'object']\n",
    "\n",
    "# Label encode each categorical column (keeping consistency between train and test)\n",
    "encoders = {}\n",
    "for col in label_cols:\n",
    "    encoder = LabelEncoder()\n",
    "    combined = pd.concat([X_train[col], X_test[col]], axis=0).astype(str)\n",
    "    encoder.fit(combined)\n",
    "    X_train[col] = encoder.transform(X_train[col].astype(str))\n",
    "    X_test[col] = encoder.transform(X_test[col].astype(str))\n",
    "    encoders[col] = encoder  # Optional: store encoders for inverse_transform or future use"
   ]
  },
  {
   "cell_type": "code",
   "execution_count": 90,
   "id": "af5811fa",
   "metadata": {},
   "outputs": [
    {
     "name": "stdout",
     "output_type": "stream",
     "text": [
      "Accuracy: 0.8859857482185273\n",
      "\n",
      "Classification Report:\n",
      "               precision    recall  f1-score   support\n",
      "\n",
      "           0       0.85      0.97      0.90      1177\n",
      "           1       0.95      0.78      0.86       928\n",
      "\n",
      "    accuracy                           0.89      2105\n",
      "   macro avg       0.90      0.87      0.88      2105\n",
      "weighted avg       0.89      0.89      0.88      2105\n",
      "\n"
     ]
    }
   ],
   "source": [
    "model = XGBClassifier(\n",
    "    n_estimators=200,\n",
    "    eval_metric='logloss',\n",
    "    random_state=42\n",
    ")\n",
    "\n",
    "model.fit(X_train, y_train)\n",
    "\n",
    "# Predict\n",
    "y_pred = model.predict(X_test)\n",
    "\n",
    "# Evaluation\n",
    "print(\"Accuracy:\", accuracy_score(y_test, y_pred))\n",
    "print(\"\\nClassification Report:\\n\", classification_report(y_test, y_pred))"
   ]
  }
 ],
 "metadata": {
  "kernelspec": {
   "display_name": "Python 3",
   "language": "python",
   "name": "python3"
  },
  "language_info": {
   "codemirror_mode": {
    "name": "ipython",
    "version": 3
   },
   "file_extension": ".py",
   "mimetype": "text/x-python",
   "name": "python",
   "nbconvert_exporter": "python",
   "pygments_lexer": "ipython3",
   "version": "3.12.1"
  }
 },
 "nbformat": 4,
 "nbformat_minor": 5
}
