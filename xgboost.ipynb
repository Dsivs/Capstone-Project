{
 "cells": [
  {
   "cell_type": "code",
   "execution_count": 22,
   "id": "6bd63831",
   "metadata": {},
   "outputs": [],
   "source": [
    "from sklearn.model_selection import train_test_split\n",
    "from sklearn.metrics import accuracy_score, classification_report\n",
    "from sklearn.preprocessing import LabelEncoder\n",
    "from xgboost import XGBClassifier\n",
    "import xgboost as xgb\n",
    "import pandas as pd\n",
    "import matplotlib.pyplot as plt"
   ]
  },
  {
   "cell_type": "markdown",
   "id": "f191f4f3",
   "metadata": {},
   "source": [
    "### XGBoost with merchant information"
   ]
  },
  {
   "cell_type": "code",
   "execution_count": 23,
   "id": "8f6c4305",
   "metadata": {},
   "outputs": [],
   "source": [
    "# Load data\n",
    "df_train = pd.read_parquet('train_df.parquet', engine='pyarrow')\n",
    "df_test = pd.read_parquet('test_df.parquet', engine='pyarrow')\n",
    "\n",
    "# Separate features X and target y (anomaly label 0 or 1)\n",
    "X_train = df_train.drop('is_anomalous', axis=1)\n",
    "y_train = df_train['is_anomalous']\n",
    "X_test = df_test.drop('is_anomalous', axis=1)\n",
    "y_test = df_test['is_anomalous']"
   ]
  },
  {
   "cell_type": "code",
   "execution_count": 24,
   "id": "3ad0f758",
   "metadata": {},
   "outputs": [],
   "source": [
    "# use label encoding for categorical/name columns (merchant info)\n",
    "# label encoding is fine because tree-based models don’t assume ordering in the numbers\n",
    "\n",
    "# Identify categorical columns\n",
    "col_types = dict(X_train.dtypes)\n",
    "label_cols = [col for col, dtype in col_types.items() if dtype == 'object']\n",
    "\n",
    "# Label encode each categorical column (keeping consistency between train and test)\n",
    "encoders = {}\n",
    "for col in label_cols:\n",
    "    encoder = LabelEncoder()\n",
    "    combined = pd.concat([X_train[col], X_test[col]], axis=0).astype(str)\n",
    "    encoder.fit(combined)\n",
    "    X_train[col] = encoder.transform(X_train[col].astype(str))\n",
    "    X_test[col] = encoder.transform(X_test[col].astype(str))\n",
    "    encoders[col] = encoder  # Optional: store encoders for inverse_transform or future use\n",
    "\n",
    "# remove datetime cols, only use important info (time between invoice date and due: invoice_age)\n",
    "X_train = X_train.drop(columns=['invoice_date', 'due_date'])\n",
    "X_test = X_test.drop(columns=['invoice_date', 'due_date'])"
   ]
  },
  {
   "cell_type": "code",
   "execution_count": 25,
   "id": "fc3b2676",
   "metadata": {},
   "outputs": [
    {
     "name": "stdout",
     "output_type": "stream",
     "text": [
      "Accuracy: 0.8821852731591449\n",
      "\n",
      "Classification Report:\n",
      "               precision    recall  f1-score   support\n",
      "\n",
      "           0       0.84      0.97      0.90      1177\n",
      "           1       0.96      0.77      0.85       928\n",
      "\n",
      "    accuracy                           0.88      2105\n",
      "   macro avg       0.90      0.87      0.88      2105\n",
      "weighted avg       0.89      0.88      0.88      2105\n",
      "\n"
     ]
    }
   ],
   "source": [
    "model_with_merchant_info = XGBClassifier(\n",
    "    n_estimators=200,\n",
    "    eval_metric='logloss',\n",
    "    random_state=42\n",
    ")\n",
    "\n",
    "model_with_merchant_info.fit(X_train, y_train)\n",
    "\n",
    "# Predict\n",
    "y_pred = model_with_merchant_info.predict(X_test)\n",
    "\n",
    "# Evaluation\n",
    "print(\"Accuracy:\", accuracy_score(y_test, y_pred))\n",
    "print(\"\\nClassification Report:\\n\", classification_report(y_test, y_pred))"
   ]
  },
  {
   "cell_type": "markdown",
   "id": "42783d5a",
   "metadata": {},
   "source": [
    "### Model without merchant information"
   ]
  },
  {
   "cell_type": "code",
   "execution_count": 26,
   "id": "2d70727e",
   "metadata": {},
   "outputs": [],
   "source": [
    "# Load data\n",
    "df_train = pd.read_parquet('train_df.parquet', engine='pyarrow')\n",
    "df_test = pd.read_parquet('test_df.parquet', engine='pyarrow')\n",
    "\n",
    "# Separate features X and target y (anomaly label 0 or 1)\n",
    "X_train = df_train.drop('is_anomalous', axis=1)\n",
    "y_train = df_train['is_anomalous']\n",
    "X_test = df_test.drop('is_anomalous', axis=1)\n",
    "y_test = df_test['is_anomalous']"
   ]
  },
  {
   "cell_type": "code",
   "execution_count": 27,
   "id": "e4d50851",
   "metadata": {},
   "outputs": [],
   "source": [
    "# use label encoding for categorical/name columns (po_number, payment_method, country, state, and currency)\n",
    "# label encoding is fine because tree-based models don’t assume ordering in the numbers\n",
    "\n",
    "# remove merchant, merchant chain, merchant branch, and merchant address\n",
    "# remove datetime cols, only use important info (time between invoice date and due: invoice_age)\n",
    "X_train = X_train.drop(columns=['merchant', 'merchant_branch', 'merchant_chain', 'merchant_address', 'invoice_date', 'due_date'])\n",
    "X_test = X_test.drop(columns=['merchant', 'merchant_branch', 'merchant_chain', 'merchant_address', 'invoice_date', 'due_date'])\n",
    "\n",
    "# Identify categorical columns\n",
    "col_types = dict(X_train.dtypes)\n",
    "label_cols = [col for col, dtype in col_types.items() if dtype == 'object']\n",
    "\n",
    "# Label encode each categorical column (keeping consistency between train and test)\n",
    "encoders = {}\n",
    "for col in label_cols:\n",
    "    encoder = LabelEncoder()\n",
    "    combined = pd.concat([X_train[col], X_test[col]], axis=0).astype(str)\n",
    "    encoder.fit(combined)\n",
    "    X_train[col] = encoder.transform(X_train[col].astype(str))\n",
    "    X_test[col] = encoder.transform(X_test[col].astype(str))\n",
    "    encoders[col] = encoder  # Optional: store encoders for inverse_transform or future use"
   ]
  },
  {
   "cell_type": "code",
   "execution_count": 28,
   "id": "af5811fa",
   "metadata": {},
   "outputs": [
    {
     "name": "stdout",
     "output_type": "stream",
     "text": [
      "Accuracy: 0.8859857482185273\n",
      "\n",
      "Classification Report:\n",
      "               precision    recall  f1-score   support\n",
      "\n",
      "           0       0.85      0.97      0.90      1177\n",
      "           1       0.95      0.78      0.86       928\n",
      "\n",
      "    accuracy                           0.89      2105\n",
      "   macro avg       0.90      0.87      0.88      2105\n",
      "weighted avg       0.89      0.89      0.88      2105\n",
      "\n"
     ]
    }
   ],
   "source": [
    "model = XGBClassifier(\n",
    "    n_estimators=200,\n",
    "    eval_metric='logloss',\n",
    "    random_state=42\n",
    ")\n",
    "\n",
    "model.fit(X_train, y_train)\n",
    "\n",
    "# Predict\n",
    "y_pred = model.predict(X_test)\n",
    "\n",
    "# Evaluation\n",
    "print(\"Accuracy:\", accuracy_score(y_test, y_pred))\n",
    "print(\"\\nClassification Report:\\n\", classification_report(y_test, y_pred))"
   ]
  },
  {
   "cell_type": "markdown",
   "id": "1e8f3252",
   "metadata": {},
   "source": [
    "### Hyper-parameter tuning"
   ]
  },
  {
   "cell_type": "code",
   "execution_count": 29,
   "id": "b7251ed9",
   "metadata": {},
   "outputs": [
    {
     "name": "stdout",
     "output_type": "stream",
     "text": [
      "Best Parameters: {'colsample_bytree': 0.8, 'learning_rate': 0.3, 'max_depth': 6, 'n_estimators': 200, 'subsample': 1.0}\n",
      "Best Recall for Class 1: 0.7780\n"
     ]
    }
   ],
   "source": [
    "from sklearn.model_selection import GridSearchCV\n",
    "from sklearn.metrics import make_scorer, recall_score\n",
    "from collections import Counter\n",
    "\n",
    "param_grid = {\n",
    "    'n_estimators': [100, 200],\n",
    "    'max_depth': [5, 6, 7, 8],\n",
    "    'learning_rate': [0.01, 0.05, 0.1, 0.3],\n",
    "    'subsample': [0.8, 1.0],\n",
    "    'colsample_bytree': [0.8, 1.0]\n",
    "}\n",
    "\n",
    "# Define custom scorer\n",
    "recall_1_scorer = make_scorer(recall_score, pos_label=1)\n",
    "\n",
    "# Give more weight to the positive class\n",
    "from collections import Counter\n",
    "ratio = Counter(y_train)[0] / Counter(y_train)[1]\n",
    "\n",
    "# Grid search\n",
    "grid = GridSearchCV(\n",
    "    estimator=XGBClassifier(scale_pos_weight=ratio, random_state=42, eval_metric='logloss', ),\n",
    "    param_grid=param_grid,\n",
    "    scoring=recall_1_scorer,\n",
    "    cv=4\n",
    ")\n",
    "\n",
    "grid.fit(X_train, y_train)\n",
    "\n",
    "print(\"Best Parameters:\", grid.best_params_)\n",
    "print(\"Best Recall for Class 1: {:.4f}\".format(grid.best_score_))"
   ]
  },
  {
   "cell_type": "code",
   "execution_count": 30,
   "id": "c8d8f019",
   "metadata": {},
   "outputs": [
    {
     "data": {
      "text/html": [
       "<div>\n",
       "<style scoped>\n",
       "    .dataframe tbody tr th:only-of-type {\n",
       "        vertical-align: middle;\n",
       "    }\n",
       "\n",
       "    .dataframe tbody tr th {\n",
       "        vertical-align: top;\n",
       "    }\n",
       "\n",
       "    .dataframe thead th {\n",
       "        text-align: right;\n",
       "    }\n",
       "</style>\n",
       "<table border=\"1\" class=\"dataframe\">\n",
       "  <thead>\n",
       "    <tr style=\"text-align: right;\">\n",
       "      <th></th>\n",
       "      <th>params</th>\n",
       "      <th>mean_test_score</th>\n",
       "      <th>rank_test_score</th>\n",
       "    </tr>\n",
       "  </thead>\n",
       "  <tbody>\n",
       "    <tr>\n",
       "      <th>55</th>\n",
       "      <td>{'colsample_bytree': 0.8, 'learning_rate': 0.3...</td>\n",
       "      <td>0.778024</td>\n",
       "      <td>1</td>\n",
       "    </tr>\n",
       "    <tr>\n",
       "      <th>123</th>\n",
       "      <td>{'colsample_bytree': 1.0, 'learning_rate': 0.3...</td>\n",
       "      <td>0.777204</td>\n",
       "      <td>2</td>\n",
       "    </tr>\n",
       "    <tr>\n",
       "      <th>115</th>\n",
       "      <td>{'colsample_bytree': 1.0, 'learning_rate': 0.3...</td>\n",
       "      <td>0.776933</td>\n",
       "      <td>3</td>\n",
       "    </tr>\n",
       "    <tr>\n",
       "      <th>114</th>\n",
       "      <td>{'colsample_bytree': 1.0, 'learning_rate': 0.3...</td>\n",
       "      <td>0.776387</td>\n",
       "      <td>4</td>\n",
       "    </tr>\n",
       "    <tr>\n",
       "      <th>118</th>\n",
       "      <td>{'colsample_bytree': 1.0, 'learning_rate': 0.3...</td>\n",
       "      <td>0.776386</td>\n",
       "      <td>5</td>\n",
       "    </tr>\n",
       "    <tr>\n",
       "      <th>...</th>\n",
       "      <td>...</td>\n",
       "      <td>...</td>\n",
       "      <td>...</td>\n",
       "    </tr>\n",
       "    <tr>\n",
       "      <th>66</th>\n",
       "      <td>{'colsample_bytree': 1.0, 'learning_rate': 0.0...</td>\n",
       "      <td>0.715694</td>\n",
       "      <td>109</td>\n",
       "    </tr>\n",
       "    <tr>\n",
       "      <th>65</th>\n",
       "      <td>{'colsample_bytree': 1.0, 'learning_rate': 0.0...</td>\n",
       "      <td>0.715694</td>\n",
       "      <td>109</td>\n",
       "    </tr>\n",
       "    <tr>\n",
       "      <th>64</th>\n",
       "      <td>{'colsample_bytree': 1.0, 'learning_rate': 0.0...</td>\n",
       "      <td>0.715694</td>\n",
       "      <td>109</td>\n",
       "    </tr>\n",
       "    <tr>\n",
       "      <th>7</th>\n",
       "      <td>{'colsample_bytree': 0.8, 'learning_rate': 0.0...</td>\n",
       "      <td>0.715694</td>\n",
       "      <td>109</td>\n",
       "    </tr>\n",
       "    <tr>\n",
       "      <th>0</th>\n",
       "      <td>{'colsample_bytree': 0.8, 'learning_rate': 0.0...</td>\n",
       "      <td>0.715694</td>\n",
       "      <td>109</td>\n",
       "    </tr>\n",
       "  </tbody>\n",
       "</table>\n",
       "<p>128 rows × 3 columns</p>\n",
       "</div>"
      ],
      "text/plain": [
       "                                                params  mean_test_score  \\\n",
       "55   {'colsample_bytree': 0.8, 'learning_rate': 0.3...         0.778024   \n",
       "123  {'colsample_bytree': 1.0, 'learning_rate': 0.3...         0.777204   \n",
       "115  {'colsample_bytree': 1.0, 'learning_rate': 0.3...         0.776933   \n",
       "114  {'colsample_bytree': 1.0, 'learning_rate': 0.3...         0.776387   \n",
       "118  {'colsample_bytree': 1.0, 'learning_rate': 0.3...         0.776386   \n",
       "..                                                 ...              ...   \n",
       "66   {'colsample_bytree': 1.0, 'learning_rate': 0.0...         0.715694   \n",
       "65   {'colsample_bytree': 1.0, 'learning_rate': 0.0...         0.715694   \n",
       "64   {'colsample_bytree': 1.0, 'learning_rate': 0.0...         0.715694   \n",
       "7    {'colsample_bytree': 0.8, 'learning_rate': 0.0...         0.715694   \n",
       "0    {'colsample_bytree': 0.8, 'learning_rate': 0.0...         0.715694   \n",
       "\n",
       "     rank_test_score  \n",
       "55                 1  \n",
       "123                2  \n",
       "115                3  \n",
       "114                4  \n",
       "118                5  \n",
       "..               ...  \n",
       "66               109  \n",
       "65               109  \n",
       "64               109  \n",
       "7                109  \n",
       "0                109  \n",
       "\n",
       "[128 rows x 3 columns]"
      ]
     },
     "metadata": {},
     "output_type": "display_data"
    }
   ],
   "source": [
    "results_df = pd.DataFrame(grid.cv_results_)\n",
    "display(results_df[['params', 'mean_test_score', 'rank_test_score']].sort_values(by='rank_test_score'))"
   ]
  },
  {
   "cell_type": "code",
   "execution_count": null,
   "id": "f3bbee52",
   "metadata": {},
   "outputs": [
    {
     "name": "stdout",
     "output_type": "stream",
     "text": [
      "Accuracy: 0.8821852731591449\n",
      "\n",
      "Classification Report:\n",
      "               precision    recall  f1-score   support\n",
      "\n",
      "           0       0.85      0.96      0.90      1177\n",
      "           1       0.95      0.78      0.85       928\n",
      "\n",
      "    accuracy                           0.88      2105\n",
      "   macro avg       0.90      0.87      0.88      2105\n",
      "weighted avg       0.89      0.88      0.88      2105\n",
      "\n"
     ]
    }
   ],
   "source": [
    "# model for the best set of hyper-paramters\n",
    "\n",
    "model = XGBClassifier(\n",
    "    scale_pos_weight=(Counter(y_train)[0] / Counter(y_train)[1]),\n",
    "    colsample_bytree=0.8,\n",
    "    learning_rate=0.3,\n",
    "    max_depth=6,\n",
    "    subsample=1,\n",
    "    n_estimators=200,\n",
    "    eval_metric='logloss',\n",
    "    random_state=42\n",
    ")\n",
    "\n",
    "model.fit(X_train, y_train)\n",
    "\n",
    "# Predict\n",
    "y_pred = model.predict(X_test)\n",
    "\n",
    "# Evaluation\n",
    "print(\"Accuracy:\", accuracy_score(y_test, y_pred))\n",
    "print(\"\\nClassification Report:\\n\", classification_report(y_test, y_pred))"
   ]
  },
  {
   "cell_type": "code",
   "execution_count": 51,
   "id": "528a2660",
   "metadata": {},
   "outputs": [
    {
     "data": {
      "image/png": "[encoded data removed]",
      "text/plain": [
       "<Figure size 640x480 with 1 Axes>"
      ]
     },
     "metadata": {},
     "output_type": "display_data"
    }
   ],
   "source": [
    "xgb.plot_importance(model)\n",
    "plt.show()"
   ]
  },
  {
   "cell_type": "markdown",
   "id": "75fea1a8",
   "metadata": {},
   "source": [
    "### Threshold adjustment"
   ]
  },
  {
   "cell_type": "code",
   "execution_count": 52,
   "id": "5b81d121",
   "metadata": {},
   "outputs": [
    {
     "name": "stdout",
     "output_type": "stream",
     "text": [
      "              precision    recall  f1-score   support\n",
      "\n",
      "           0       0.86      0.91      0.89      1177\n",
      "           1       0.88      0.81      0.85       928\n",
      "\n",
      "    accuracy                           0.87      2105\n",
      "   macro avg       0.87      0.86      0.87      2105\n",
      "weighted avg       0.87      0.87      0.87      2105\n",
      "\n"
     ]
    }
   ],
   "source": [
    "# adjust the threshold for is_anomaly\n",
    "y_proba = model.predict_proba(X_test)[:, 1]\n",
    "y_pred_thresh = (y_proba >= 0.3).astype(int)  # lower threshold = higher recall\n",
    "\n",
    "from sklearn.metrics import classification_report\n",
    "print(classification_report(y_test, y_pred_thresh))"
   ]
  },
  {
   "cell_type": "markdown",
   "id": "198ab424",
   "metadata": {},
   "source": [
    "### Ensemble learning (bagging)"
   ]
  },
  {
   "cell_type": "code",
   "execution_count": 62,
   "id": "eda9b566",
   "metadata": {},
   "outputs": [
    {
     "name": "stdout",
     "output_type": "stream",
     "text": [
      "Ensemble Accuracy: 0.876959619952494\n",
      "\n",
      "Ensemble Classification Report:\n",
      "               precision    recall  f1-score   support\n",
      "\n",
      "           0       0.86      0.93      0.89      1177\n",
      "           1       0.90      0.81      0.85       928\n",
      "\n",
      "    accuracy                           0.88      2105\n",
      "   macro avg       0.88      0.87      0.87      2105\n",
      "weighted avg       0.88      0.88      0.88      2105\n",
      "\n"
     ]
    }
   ],
   "source": [
    "from xgboost import XGBClassifier\n",
    "from sklearn.metrics import classification_report, accuracy_score\n",
    "import numpy as np\n",
    "\n",
    "# Parameters\n",
    "n_models = 8\n",
    "seed = 42\n",
    "_colsample_bytree = [0.8, 1]\n",
    "_subsample = [0.8, 1]\n",
    "_max_depth = [5, 6]\n",
    "models = []\n",
    "predictions = []\n",
    "\n",
    "# Train multiple models\n",
    "for cb in _colsample_bytree:\n",
    "    for ss in _subsample:\n",
    "        for md in _max_depth:\n",
    "            model = XGBClassifier(\n",
    "                colsample_bytree=cb,\n",
    "                learning_rate=0.3,\n",
    "                max_depth=md,\n",
    "                subsample=ss,\n",
    "                n_estimators=200,\n",
    "                random_state=seed,\n",
    "                eval_metric='logloss',\n",
    "                scale_pos_weight=(Counter(y_train)[0] / Counter(y_train)[1])\n",
    "            )\n",
    "            model.fit(X_train, y_train)\n",
    "            models.append(model)\n",
    "            \n",
    "            # Predict probabilities\n",
    "            y_proba = model.predict_proba(X_test)[:, 1]\n",
    "            predictions.append(y_proba)\n",
    "\n",
    "# Average predicted probabilities\n",
    "avg_proba = np.mean(predictions, axis=0)\n",
    "\n",
    "# Apply threshold (adjustable)\n",
    "y_pred_ensemble = (avg_proba >= 0.3).astype(int)\n",
    "\n",
    "# Evaluation\n",
    "print(\"Ensemble Accuracy:\", accuracy_score(y_test, y_pred_ensemble))\n",
    "print(\"\\nEnsemble Classification Report:\\n\", classification_report(y_test, y_pred_ensemble))"
   ]
  },
  {
   "cell_type": "code",
   "execution_count": 64,
   "id": "2ac8ca25",
   "metadata": {},
   "outputs": [
    {
     "name": "stdout",
     "output_type": "stream",
     "text": [
      "Ensemble Accuracy: 0.8736342042755344\n",
      "\n",
      "Ensemble Classification Report:\n",
      "               precision    recall  f1-score   support\n",
      "\n",
      "           0       0.86      0.92      0.89      1177\n",
      "           1       0.89      0.81      0.85       928\n",
      "\n",
      "    accuracy                           0.87      2105\n",
      "   macro avg       0.88      0.87      0.87      2105\n",
      "weighted avg       0.87      0.87      0.87      2105\n",
      "\n"
     ]
    }
   ],
   "source": [
    "from xgboost import XGBClassifier\n",
    "from sklearn.metrics import classification_report, accuracy_score\n",
    "import numpy as np\n",
    "\n",
    "# Parameters\n",
    "n_models = 5\n",
    "seeds = [42, 52, 62, 72, 82]  # different seeds\n",
    "models = []\n",
    "predictions = []\n",
    "\n",
    "# Train multiple models\n",
    "for seed in seeds:\n",
    "    model = XGBClassifier(\n",
    "            colsample_bytree=0.8,\n",
    "            learning_rate=0.3,\n",
    "            max_depth=6,\n",
    "            subsample=1,\n",
    "            n_estimators=200,\n",
    "            random_state=seed,\n",
    "            eval_metric='logloss',\n",
    "            scale_pos_weight=(Counter(y_train)[0] / Counter(y_train)[1])\n",
    "    )\n",
    "    model.fit(X_train, y_train)\n",
    "    models.append(model)\n",
    "    \n",
    "    # Predict probabilities\n",
    "    y_proba = model.predict_proba(X_test)[:, 1]\n",
    "    predictions.append(y_proba)\n",
    "\n",
    "# Average predicted probabilities\n",
    "avg_proba = np.mean(predictions, axis=0)\n",
    "\n",
    "# Apply threshold (adjustable)\n",
    "y_pred_ensemble = (avg_proba >= 0.3).astype(int)\n",
    "\n",
    "# Evaluation\n",
    "print(\"Ensemble Accuracy:\", accuracy_score(y_test, y_pred_ensemble))\n",
    "print(\"\\nEnsemble Classification Report:\\n\", classification_report(y_test, y_pred_ensemble))"
   ]
  }
 ],
 "metadata": {
  "kernelspec": {
   "display_name": "Python 3",
   "language": "python",
   "name": "python3"
  },
  "language_info": {
   "codemirror_mode": {
    "name": "ipython",
    "version": 3
   },
   "file_extension": ".py",
   "mimetype": "text/x-python",
   "name": "python",
   "nbconvert_exporter": "python",
   "pygments_lexer": "ipython3",
   "version": "3.12.1"
  }
 },
 "nbformat": 4,
 "nbformat_minor": 5
}
